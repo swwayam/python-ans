{
 "cells": [
  {
   "cell_type": "code",
   "execution_count": 1,
   "id": "b1985e1f",
   "metadata": {
    "scrolled": true
   },
   "outputs": [
    {
     "name": "stdout",
     "output_type": "stream",
     "text": [
      "Please Enter Your First Name: Human\n",
      "Please Enter Your Last Name: Race\n",
      "My name is Human Race I am from earth planet\n"
     ]
    }
   ],
   "source": [
    "## input() is used to take an input form the user\n",
    "\n",
    "first_name = input(\"Please Enter Your First Name: \")\n",
    "last_name = input(\"Please Enter Your Last Name: \")\n",
    "\n",
    "\n",
    "print(f\"My name is {first_name} {last_name} I am from earth planet\")"
   ]
  },
  {
   "cell_type": "code",
   "execution_count": 1,
   "id": "e8fed75b",
   "metadata": {},
   "outputs": [
    {
     "name": "stdout",
     "output_type": "stream",
     "text": [
      "enter your weight in kg100\n",
      "enter your height in m2\n",
      "25.0\n"
     ]
    }
   ],
   "source": [
    "##  Task 1\n",
    "\n",
    "## To create a bmi calculator\n",
    "# take input form user of weight and hight\n",
    "# bmi = wight / h * h\n",
    "# print answer\n",
    "\n",
    "weight = input(\"enter your weight in kg\")\n",
    "height = input(\"enter your height in m\")\n",
    "bmi = int(weight) / (float(height) * float(height))\n",
    "\n",
    "print(bmi)"
   ]
  },
  {
   "cell_type": "code",
   "execution_count": 2,
   "id": "8ef5d6ca",
   "metadata": {},
   "outputs": [],
   "source": [
    "## Operators - 6\n",
    "\n",
    "# Arithmetic Operators\n",
    "# Logical Operatiors\n",
    "# Comparision Operator\n",
    "# Assignment\n",
    "# Bitwise Operator\n",
    "# Membership Operator"
   ]
  },
  {
   "cell_type": "code",
   "execution_count": 3,
   "id": "50b553f3",
   "metadata": {},
   "outputs": [
    {
     "data": {
      "text/plain": [
       "0"
      ]
     },
     "execution_count": 3,
     "metadata": {},
     "output_type": "execute_result"
    }
   ],
   "source": [
    "## Arithmetic Operators\n",
    "\n",
    "# + , - , / , * , %\n",
    "\n",
    "a = 10\n",
    "b = 10\n",
    "\n",
    "# Adition\n",
    "a + b\n",
    "\n",
    "# Substraction\n",
    "a - b\n",
    "\n",
    "# Division \n",
    "a / b\n",
    "\n",
    "# Multiplication\n",
    "a * b\n",
    "\n",
    "# Modolus\n",
    "a % b\n"
   ]
  },
  {
   "cell_type": "code",
   "execution_count": 4,
   "id": "cb43ac34",
   "metadata": {},
   "outputs": [],
   "source": [
    "## Logical Operators\n",
    "\n",
    "# and \n",
    "# or \n",
    "# not "
   ]
  },
  {
   "cell_type": "code",
   "execution_count": 5,
   "id": "1865d344",
   "metadata": {},
   "outputs": [],
   "source": [
    "## Comparision Operators\n",
    "\n",
    "# < , > , <= , >= , =="
   ]
  },
  {
   "cell_type": "code",
   "execution_count": 6,
   "id": "85ed5e3e",
   "metadata": {},
   "outputs": [],
   "source": [
    "## Assignment\n",
    "\n",
    "# ="
   ]
  },
  {
   "cell_type": "code",
   "execution_count": 7,
   "id": "b5486e3c",
   "metadata": {},
   "outputs": [],
   "source": [
    "## The JavaScript Way\n",
    "\n",
    "# if(){\n",
    "    \n",
    "# }else{\n",
    "    \n",
    "# }"
   ]
  },
  {
   "cell_type": "code",
   "execution_count": 8,
   "id": "cfb6b075",
   "metadata": {},
   "outputs": [
    {
     "name": "stdout",
     "output_type": "stream",
     "text": [
      "Fail Ahaan\n",
      "The above is ahaan's result\n"
     ]
    }
   ],
   "source": [
    "ahaan_attendance = 40\n",
    "\n",
    "\n",
    "if ahaan_attendance < 60:\n",
    "    print(\"Fail Ahaan\")\n",
    "else:\n",
    "    print(\"Ahaan is genius\")\n",
    "\n",
    "print(\"The above is ahaan's result\")\n",
    "    "
   ]
  },
  {
   "cell_type": "code",
   "execution_count": null,
   "id": "61c1efb3",
   "metadata": {},
   "outputs": [],
   "source": []
  },
  {
   "cell_type": "code",
   "execution_count": null,
   "id": "8e284a43",
   "metadata": {},
   "outputs": [],
   "source": []
  }
 ],
 "metadata": {
  "kernelspec": {
   "display_name": "base",
   "language": "python",
   "name": "python3"
  },
  "language_info": {
   "codemirror_mode": {
    "name": "ipython",
    "version": 3
   },
   "file_extension": ".py",
   "mimetype": "text/x-python",
   "name": "python",
   "nbconvert_exporter": "python",
   "pygments_lexer": "ipython3",
   "version": "3.9.13"
  },
  "vscode": {
   "interpreter": {
    "hash": "8f5d4336265aefe74363406137f8d11582f72e8d6e6f4d1a48e89bb19438c71f"
   }
  }
 },
 "nbformat": 4,
 "nbformat_minor": 5
}
