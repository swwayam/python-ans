{
 "cells": [
  {
   "cell_type": "code",
   "execution_count": 2,
   "id": "bb1861ca",
   "metadata": {},
   "outputs": [],
   "source": [
    "## Data types and Variables in Python \n",
    "\n",
    "genius = \"sohan\" # string\n",
    "genius_marks = 100 # integer\n",
    "is_genius_a_real_genius = True # boolean\n",
    "genius_percentage = 99.99999 # float"
   ]
  },
  {
   "cell_type": "code",
   "execution_count": 16,
   "id": "99b7415d",
   "metadata": {},
   "outputs": [
    {
     "name": "stdout",
     "output_type": "stream",
     "text": [
      "sohan\n",
      "neha\n",
      "ahhan\n"
     ]
    }
   ],
   "source": [
    "## Case Sensitivity\n",
    "\n",
    "name = \"sohan\"\n",
    "Name = \"neha\"\n",
    "NAME = \"ahhan\"\n",
    "\n",
    "print(name)\n",
    "print(Name)\n",
    "print(NAME)\n",
    "\n",
    "# Python is case sensitive"
   ]
  },
  {
   "cell_type": "code",
   "execution_count": 17,
   "id": "f0fef5a4",
   "metadata": {},
   "outputs": [
    {
     "name": "stdout",
     "output_type": "stream",
     "text": [
      "sohan\n"
     ]
    },
    {
     "ename": "NameError",
     "evalue": "name 'name' is not defined",
     "output_type": "error",
     "traceback": [
      "\u001b[0;31m---------------------------------------------------------------------------\u001b[0m",
      "\u001b[0;31mNameError\u001b[0m                                 Traceback (most recent call last)",
      "\u001b[0;32m/tmp/ipykernel_41758/1476755077.py\u001b[0m in \u001b[0;36m<module>\u001b[0;34m\u001b[0m\n\u001b[1;32m      3\u001b[0m \u001b[0mprint\u001b[0m\u001b[0;34m(\u001b[0m\u001b[0mname\u001b[0m\u001b[0;34m)\u001b[0m\u001b[0;34m\u001b[0m\u001b[0;34m\u001b[0m\u001b[0m\n\u001b[1;32m      4\u001b[0m \u001b[0;32mdel\u001b[0m \u001b[0mname\u001b[0m\u001b[0;34m\u001b[0m\u001b[0;34m\u001b[0m\u001b[0m\n\u001b[0;32m----> 5\u001b[0;31m \u001b[0mprint\u001b[0m\u001b[0;34m(\u001b[0m\u001b[0mname\u001b[0m\u001b[0;34m)\u001b[0m\u001b[0;34m\u001b[0m\u001b[0;34m\u001b[0m\u001b[0m\n\u001b[0m",
      "\u001b[0;31mNameError\u001b[0m: name 'name' is not defined"
     ]
    }
   ],
   "source": [
    "## Deleting a variable\n",
    "\n",
    "print(name)\n",
    "del name\n",
    "print(name)"
   ]
  },
  {
   "cell_type": "code",
   "execution_count": 18,
   "id": "36135b26",
   "metadata": {},
   "outputs": [
    {
     "data": {
      "text/plain": [
       "str"
      ]
     },
     "execution_count": 18,
     "metadata": {},
     "output_type": "execute_result"
    }
   ],
   "source": [
    "## Checking the data type or checking the variable type\n",
    "\n",
    "type(genius)"
   ]
  },
  {
   "cell_type": "code",
   "execution_count": 19,
   "id": "35d851c8",
   "metadata": {},
   "outputs": [
    {
     "data": {
      "text/plain": [
       "int"
      ]
     },
     "execution_count": 19,
     "metadata": {},
     "output_type": "execute_result"
    }
   ],
   "source": [
    "type(genius_marks)"
   ]
  },
  {
   "cell_type": "code",
   "execution_count": 20,
   "id": "b3e21308",
   "metadata": {},
   "outputs": [
    {
     "data": {
      "text/plain": [
       "float"
      ]
     },
     "execution_count": 20,
     "metadata": {},
     "output_type": "execute_result"
    }
   ],
   "source": [
    "type(genius_percentage)"
   ]
  },
  {
   "cell_type": "code",
   "execution_count": 21,
   "id": "2cba675f",
   "metadata": {},
   "outputs": [
    {
     "data": {
      "text/plain": [
       "bool"
      ]
     },
     "execution_count": 21,
     "metadata": {},
     "output_type": "execute_result"
    }
   ],
   "source": [
    "type(is_genius_a_real_genius)"
   ]
  },
  {
   "cell_type": "code",
   "execution_count": 10,
   "id": "4278600a",
   "metadata": {},
   "outputs": [
    {
     "name": "stdout",
     "output_type": "stream",
     "text": [
      "9.3785\n"
     ]
    }
   ],
   "source": [
    "## Type conversion in python (changing from one data type to the other)\n",
    "\n",
    "a = \"9.3\"\n",
    "b = \"785\"\n",
    "\n",
    "print(a + b)"
   ]
  },
  {
   "cell_type": "code",
   "execution_count": 11,
   "id": "aa0c5b2a",
   "metadata": {},
   "outputs": [
    {
     "name": "stdout",
     "output_type": "stream",
     "text": [
      "794.3\n"
     ]
    }
   ],
   "source": [
    "print(float(a) + int(b))"
   ]
  },
  {
   "cell_type": "code",
   "execution_count": 12,
   "id": "9f89aad7",
   "metadata": {},
   "outputs": [
    {
     "ename": "TypeError",
     "evalue": "can only concatenate str (not \"int\") to str",
     "output_type": "error",
     "traceback": [
      "\u001b[0;31m---------------------------------------------------------------------------\u001b[0m",
      "\u001b[0;31mTypeError\u001b[0m                                 Traceback (most recent call last)",
      "\u001b[0;32m/tmp/ipykernel_12257/2617269083.py\u001b[0m in \u001b[0;36m<module>\u001b[0;34m\u001b[0m\n\u001b[1;32m      1\u001b[0m \u001b[0mgrade\u001b[0m \u001b[0;34m=\u001b[0m \u001b[0;36m7\u001b[0m\u001b[0;34m\u001b[0m\u001b[0;34m\u001b[0m\u001b[0m\n\u001b[0;32m----> 2\u001b[0;31m \u001b[0mprint\u001b[0m\u001b[0;34m(\u001b[0m\u001b[0;34m\"Hi i am sohan from \"\u001b[0m \u001b[0;34m+\u001b[0m \u001b[0mgrade\u001b[0m \u001b[0;34m+\u001b[0m \u001b[0;34m\"th grade\"\u001b[0m \u001b[0;34m)\u001b[0m\u001b[0;34m\u001b[0m\u001b[0;34m\u001b[0m\u001b[0m\n\u001b[0m\u001b[1;32m      3\u001b[0m \u001b[0;34m\u001b[0m\u001b[0m\n",
      "\u001b[0;31mTypeError\u001b[0m: can only concatenate str (not \"int\") to str"
     ]
    }
   ],
   "source": [
    "grade = 7\n",
    "print(\"Hi i am sohan from \" + grade + \"th grade\" )\n",
    "\n"
   ]
  },
  {
   "cell_type": "code",
   "execution_count": 13,
   "id": "ec200060",
   "metadata": {},
   "outputs": [
    {
     "name": "stdout",
     "output_type": "stream",
     "text": [
      "Hi i am sohan from 7th grade\n"
     ]
    }
   ],
   "source": [
    "grade = \"7\"\n",
    "print(\"Hi i am sohan from \" + grade + \"th grade\" )\n"
   ]
  },
  {
   "cell_type": "code",
   "execution_count": 14,
   "id": "d497f3ac",
   "metadata": {},
   "outputs": [
    {
     "name": "stdout",
     "output_type": "stream",
     "text": [
      "Hi i am sohan from 7 th grade\n"
     ]
    }
   ],
   "source": [
    "grade = 7\n",
    "print(f\"Hi i am sohan from {grade} th grade\" )\n"
   ]
  },
  {
   "cell_type": "code",
   "execution_count": null,
   "id": "47cf1f6f",
   "metadata": {},
   "outputs": [],
   "source": []
  }
 ],
 "metadata": {
  "kernelspec": {
   "display_name": "Python 3 (ipykernel)",
   "language": "python",
   "name": "python3"
  },
  "language_info": {
   "codemirror_mode": {
    "name": "ipython",
    "version": 3
   },
   "file_extension": ".py",
   "mimetype": "text/x-python",
   "name": "python",
   "nbconvert_exporter": "python",
   "pygments_lexer": "ipython3",
   "version": "3.9.13"
  }
 },
 "nbformat": 4,
 "nbformat_minor": 5
}
